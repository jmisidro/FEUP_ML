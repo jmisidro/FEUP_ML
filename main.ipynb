{
 "cells": [
  {
   "cell_type": "code",
   "execution_count": 1,
   "metadata": {},
   "outputs": [
    {
     "name": "stdout",
     "output_type": "stream",
     "text": [
      "\n",
      "awards_players DataFrame:\n",
      "\n",
      "coaches DataFrame:\n",
      "\n",
      "players DataFrame:\n",
      "\n",
      "players_teams DataFrame:\n",
      "\n",
      "series_post DataFrame:\n",
      "\n",
      "teams DataFrame:\n",
      "\n",
      "teams_post DataFrame:\n"
     ]
    }
   ],
   "source": [
    "import pandas as pd\n",
    "import os\n",
    "import matplotlib.pyplot as plt\n",
    "import seaborn as sb\n",
    "from sklearn.metrics import accuracy_score, f1_score, recall_score, classification_report, precision_score, confusion_matrix\n",
    "\n",
    "\n",
    "data_dir = 'data'\n",
    "\n",
    "csv_files = {\n",
    "    'awards_players': 'awards_players.csv',\n",
    "    'coaches': 'coaches.csv',\n",
    "    'players': 'players.csv',\n",
    "    'players_teams': 'players_teams.csv',\n",
    "    'series_post': 'series_post.csv',\n",
    "    'teams': 'teams.csv',\n",
    "    'teams_post': 'teams_post.csv'\n",
    "}\n",
    "\n",
    "\n",
    "data_frames = {}\n",
    "for name, file in csv_files.items():\n",
    "    file_path = os.path.join(data_dir, file)\n",
    "    data_frames[name] = pd.read_csv(file_path)\n",
    "    print(f\"\\n{name} DataFrame:\")\n",
    "    print(data_frames[name].head())\n",
    "\n",
    "\n",
    "\n",
    "df_copy = data_frames['players_teams'].copy()\n",
    "\n",
    "df_copy_numeric = df_copy.select_dtypes(include=[float, int])\n",
    "\n",
    "\n",
    "plt.figure(figsize=(20,12))\n",
    "sb.heatmap(df_copy_numeric.corr(), annot=True, cmap='coolwarm', fmt='.2f')\n",
    "plt.show()\n"
   ]
  }
 ],
 "metadata": {
  "kernelspec": {
   "display_name": "Python 3",
   "language": "python",
   "name": "python3"
  },
  "language_info": {
   "name": "python",
   "version": "3.11.5"
  }
 },
 "nbformat": 4,
 "nbformat_minor": 2
}
