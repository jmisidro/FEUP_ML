{
 "cells": [
  {
   "cell_type": "code",
   "execution_count": 85,
   "metadata": {},
   "outputs": [],
   "source": [
    "import pandas as pd\n",
    "import matplotlib.pyplot as plt\n",
    "import numpy as np\n",
    "import seaborn as sbn\n",
    "\n",
    "# Load dataframes\n",
    "awards_players = pd.read_csv('data/awards_players.csv')\n",
    "coaches = pd.read_csv('data/coaches.csv')\n",
    "players_teams = pd.read_csv('data/players_teams.csv')\n",
    "players = pd.read_csv('data/players.csv')\n",
    "series_post = pd.read_csv('data/series_post.csv')\n",
    "teams_post = pd.read_csv('data/teams_post.csv')\n",
    "teams = pd.read_csv('data/teams.csv')"
   ]
  },
  {
   "cell_type": "code",
   "execution_count": 86,
   "metadata": {},
   "outputs": [
    {
     "data": {
      "text/html": [
       "<div>\n",
       "<style scoped>\n",
       "    .dataframe tbody tr th:only-of-type {\n",
       "        vertical-align: middle;\n",
       "    }\n",
       "\n",
       "    .dataframe tbody tr th {\n",
       "        vertical-align: top;\n",
       "    }\n",
       "\n",
       "    .dataframe thead th {\n",
       "        text-align: right;\n",
       "    }\n",
       "</style>\n",
       "<table border=\"1\" class=\"dataframe\">\n",
       "  <thead>\n",
       "    <tr style=\"text-align: right;\">\n",
       "      <th></th>\n",
       "      <th>playerID</th>\n",
       "      <th>award</th>\n",
       "      <th>year</th>\n",
       "      <th>lgID</th>\n",
       "    </tr>\n",
       "  </thead>\n",
       "  <tbody>\n",
       "    <tr>\n",
       "      <th>0</th>\n",
       "      <td>thompti01w</td>\n",
       "      <td>All-Star Game Most Valuable Player</td>\n",
       "      <td>1</td>\n",
       "      <td>WNBA</td>\n",
       "    </tr>\n",
       "    <tr>\n",
       "      <th>1</th>\n",
       "      <td>leslili01w</td>\n",
       "      <td>All-Star Game Most Valuable Player</td>\n",
       "      <td>2</td>\n",
       "      <td>WNBA</td>\n",
       "    </tr>\n",
       "    <tr>\n",
       "      <th>2</th>\n",
       "      <td>leslili01w</td>\n",
       "      <td>All-Star Game Most Valuable Player</td>\n",
       "      <td>3</td>\n",
       "      <td>WNBA</td>\n",
       "    </tr>\n",
       "    <tr>\n",
       "      <th>3</th>\n",
       "      <td>teaslni01w</td>\n",
       "      <td>All-Star Game Most Valuable Player</td>\n",
       "      <td>4</td>\n",
       "      <td>WNBA</td>\n",
       "    </tr>\n",
       "    <tr>\n",
       "      <th>4</th>\n",
       "      <td>swoopsh01w</td>\n",
       "      <td>All-Star Game Most Valuable Player</td>\n",
       "      <td>6</td>\n",
       "      <td>WNBA</td>\n",
       "    </tr>\n",
       "    <tr>\n",
       "      <th>5</th>\n",
       "      <td>douglka01w</td>\n",
       "      <td>All-Star Game Most Valuable Player</td>\n",
       "      <td>7</td>\n",
       "      <td>WNBA</td>\n",
       "    </tr>\n",
       "    <tr>\n",
       "      <th>6</th>\n",
       "      <td>fordch01w</td>\n",
       "      <td>All-Star Game Most Valuable Player</td>\n",
       "      <td>8</td>\n",
       "      <td>WNBA</td>\n",
       "    </tr>\n",
       "    <tr>\n",
       "      <th>7</th>\n",
       "      <td>cashsw01w</td>\n",
       "      <td>All-Star Game Most Valuable Player</td>\n",
       "      <td>10</td>\n",
       "      <td>WNBA</td>\n",
       "    </tr>\n",
       "    <tr>\n",
       "      <th>8</th>\n",
       "      <td>coopemi01w</td>\n",
       "      <td>Coach of the Year</td>\n",
       "      <td>1</td>\n",
       "      <td>WNBA</td>\n",
       "    </tr>\n",
       "    <tr>\n",
       "      <th>9</th>\n",
       "      <td>hugheda99w</td>\n",
       "      <td>Coach of the Year</td>\n",
       "      <td>2</td>\n",
       "      <td>WNBA</td>\n",
       "    </tr>\n",
       "  </tbody>\n",
       "</table>\n",
       "</div>"
      ],
      "text/plain": [
       "     playerID                               award  year  lgID\n",
       "0  thompti01w  All-Star Game Most Valuable Player     1  WNBA\n",
       "1  leslili01w  All-Star Game Most Valuable Player     2  WNBA\n",
       "2  leslili01w  All-Star Game Most Valuable Player     3  WNBA\n",
       "3  teaslni01w  All-Star Game Most Valuable Player     4  WNBA\n",
       "4  swoopsh01w  All-Star Game Most Valuable Player     6  WNBA\n",
       "5  douglka01w  All-Star Game Most Valuable Player     7  WNBA\n",
       "6   fordch01w  All-Star Game Most Valuable Player     8  WNBA\n",
       "7   cashsw01w  All-Star Game Most Valuable Player    10  WNBA\n",
       "8  coopemi01w                   Coach of the Year     1  WNBA\n",
       "9  hugheda99w                   Coach of the Year     2  WNBA"
      ]
     },
     "execution_count": 86,
     "metadata": {},
     "output_type": "execute_result"
    }
   ],
   "source": [
    "# Cleaning Awards Players\n",
    "awards_players.iloc[:, :-1]  # Drop the last column # Drop lgID column since all values are 'WNBA'\n",
    "\n",
    "#Add the missing \"award\" value for line 30\n",
    "awards_players.at[28, 'award'] = \"Kim Perrot Sportsmanship Award\" \n",
    "awards_players.head(10)"
   ]
  },
  {
   "cell_type": "code",
   "execution_count": 87,
   "metadata": {},
   "outputs": [],
   "source": [
    "# We can drop 'lgID', since all values are 'WNBA'\n",
    "players_teams.drop('lgID', axis=1, inplace=True)"
   ]
  },
  {
   "cell_type": "code",
   "execution_count": 88,
   "metadata": {},
   "outputs": [],
   "source": [
    "# We can drop 'lgID', since all values are 'WNBA'\n",
    "coaches.drop('lgID', axis=1, inplace=True)"
   ]
  },
  {
   "cell_type": "code",
   "execution_count": 89,
   "metadata": {},
   "outputs": [],
   "source": [
    "# We can drop 'firstseason', since all values are '0'\n",
    "players.drop('firstseason', axis=1, inplace=True)\n",
    "# We can drop 'lastseason', since all values are '0'\n",
    "players.drop('lastseason', axis=1, inplace=True)"
   ]
  },
  {
   "cell_type": "code",
   "execution_count": 90,
   "metadata": {},
   "outputs": [],
   "source": [
    "# We don't believe that the 'rebounds' attribute is relevant, so we drop it\n",
    "players_teams.drop('rebounds', axis=1, inplace=True)"
   ]
  },
  {
   "cell_type": "code",
   "execution_count": 91,
   "metadata": {},
   "outputs": [],
   "source": [
    "# We can drop 'lgID', since all values are 'WNBA'\n",
    "teams.drop('lgID', axis=1, inplace=True)\n",
    "# We can drop 'franchID', since values are the same as 'teamID'\n",
    "teams.drop('franchID', axis=1, inplace=True)\n",
    "# We can drop 'divID', since all values are null\n",
    "teams.drop('divID', axis=1, inplace=True)\n",
    "# We can drop 'seeded', since all values are 0\n",
    "teams.drop('seeded', axis=1, inplace=True)\n",
    "# We don't believe that the 'name' attribute is relevant, so we drop it\n",
    "teams.drop('name', axis=1, inplace=True)\n",
    "# All of these attributes are always 0, se we can simply drop them\n",
    "teams.drop(['tmORB', 'tmDRB', 'tmTRB', 'opptmORB', 'opptmDRB', 'opptmTRB'], axis=1, inplace=True)\n",
    "# We don't believe that the 'min' attribute is relevant, so we drop it\n",
    "teams.drop('min', axis=1, inplace=True)\n",
    "# We don't believe that the 'attend' attribute is relevant, so we drop it\n",
    "teams.drop('attend', axis=1, inplace=True)\n",
    "# We don't believe that the 'arena' attribute is relevant, so we drop it\n",
    "teams.drop('arena', axis=1, inplace=True)"
   ]
  }
 ],
 "metadata": {
  "kernelspec": {
   "display_name": "Python 3",
   "language": "python",
   "name": "python3"
  },
  "language_info": {
   "codemirror_mode": {
    "name": "ipython",
    "version": 3
   },
   "file_extension": ".py",
   "mimetype": "text/x-python",
   "name": "python",
   "nbconvert_exporter": "python",
   "pygments_lexer": "ipython3",
   "version": "3.10.7"
  }
 },
 "nbformat": 4,
 "nbformat_minor": 2
}
