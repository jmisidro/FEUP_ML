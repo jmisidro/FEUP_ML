{
 "cells": [
  {
   "cell_type": "code",
   "execution_count": 59,
   "metadata": {},
   "outputs": [],
   "source": [
    "import pandas as pd\n",
    "from sklearn.ensemble import GradientBoostingClassifier\n",
    "\n",
    "df = pd.read_csv(\"../data/clean/merged.csv\")"
   ]
  },
  {
   "cell_type": "code",
   "execution_count": 60,
   "metadata": {},
   "outputs": [],
   "source": [
    "def train_test_split_by_year(data, test_year):\n",
    "    train_set = data[(data['year'] < test_year)]\n",
    "    test_set = data[data['year'] == test_year]\n",
    "    return train_set, test_set\n",
    "\n",
    "def evaluate_model(model, train_set_original, test_set_original):\n",
    "    \n",
    "    train_set = train_set_original.copy()\n",
    "    test_set = test_set_original.copy()\n",
    "\n",
    "    \n",
    "    tmIDs = test_set['tmID']\n",
    "    confIDs = test_set['confID']\n",
    "    train_set.drop(['tmID', 'confID', 'year'], axis=1, inplace=True)\n",
    "    test_set.drop(['tmID', 'confID', 'year'], axis=1, inplace=True)\n",
    "    \n",
    "    X_train, y_train = train_set.drop(columns=['playoff']), train_set['playoff']\n",
    "    X_test, y_test = test_set.drop(columns=['playoff']), test_set['playoff']\n",
    "    \n",
    "    model.fit(X_train, y_train)\n",
    "    y_pred = model.predict(X_test)\n",
    "    \n",
    "    predict_proba = model.predict_proba(X_test)[:, 1]\n",
    "        \n",
    "    results = pd.DataFrame({\n",
    "        'tmID' : tmIDs,\n",
    "        'confID': confIDs,\n",
    "        'playoff' : y_pred,\n",
    "        'predict_proba' : predict_proba\n",
    "    })\n",
    "    \n",
    "    # Select the best 4 teams for each conference (confID) ensuring unique teams\n",
    "    results = results.sort_values(by='predict_proba', ascending=False).groupby('confID').head(4)\n",
    "\n",
    "    return results"
   ]
  },
  {
   "cell_type": "code",
   "execution_count": 61,
   "metadata": {},
   "outputs": [],
   "source": [
    "def train_model(data, test_year, model):\n",
    "    train_data, test_data = train_test_split_by_year(data, test_year)\n",
    "    result = evaluate_model(model, train_data, test_data)\n",
    "    \n",
    "    return result"
   ]
  },
  {
   "cell_type": "code",
   "execution_count": 62,
   "metadata": {},
   "outputs": [],
   "source": [
    "params = {\n",
    "    'n_estimators': 100,\n",
    "    'max_depth': 3,\n",
    "    'min_samples_split': 2,\n",
    "    'learning_rate': 0.1\n",
    "}\n",
    "\n",
    "results = train_model(df, 11, GradientBoostingClassifier(**params))\n",
    "\n",
    "results.drop(['confID'], axis=1, inplace=True)\n",
    "results.to_csv(f\"../data/predictions/predictions_11.csv\", index=False)"
   ]
  }
 ],
 "metadata": {
  "kernelspec": {
   "display_name": "Python 3",
   "language": "python",
   "name": "python3"
  },
  "language_info": {
   "codemirror_mode": {
    "name": "ipython",
    "version": 3
   },
   "file_extension": ".py",
   "mimetype": "text/x-python",
   "name": "python",
   "nbconvert_exporter": "python",
   "pygments_lexer": "ipython3",
   "version": "3.10.7"
  }
 },
 "nbformat": 4,
 "nbformat_minor": 2
}
