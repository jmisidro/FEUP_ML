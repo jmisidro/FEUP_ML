{
 "cells": [
  {
   "cell_type": "code",
   "execution_count": 1,
   "metadata": {},
   "outputs": [],
   "source": [
    "# import tables\n",
    "\n",
    "import numpy as np\n",
    "import pandas as pd\n",
    "import matplotlib.pyplot as plt\n",
    "import seaborn as sns\n",
    "import os\n",
    "\n",
    "# import tables\n",
    "folder = '../data/'\n",
    "\n",
    "awards_players = pd.read_csv(folder + 'awards_players.csv')\n",
    "coaches = pd.read_csv(folder + 'coaches.csv')\n",
    "players_teams = pd.read_csv(folder + 'players_teams.csv')\n",
    "players = pd.read_csv(folder + 'players.csv')\n",
    "series_post = pd.read_csv(folder + 'series_post.csv')\n",
    "teams_post = pd.read_csv(folder + 'teams_post.csv')\n",
    "teams = pd.read_csv(folder + 'teams.csv')"
   ]
  },
  {
   "cell_type": "code",
   "execution_count": null,
   "metadata": {},
   "outputs": [],
   "source": [
    "\n",
    "# make table to provide to the model\n",
    "\n",
    "result = ...\n",
    "\n"
   ]
  },
  {
   "cell_type": "code",
   "execution_count": 2,
   "metadata": {},
   "outputs": [
    {
     "ename": "NameError",
     "evalue": "name 'result' is not defined",
     "output_type": "error",
     "traceback": [
      "\u001b[1;31m---------------------------------------------------------------------------\u001b[0m",
      "\u001b[1;31mNameError\u001b[0m                                 Traceback (most recent call last)",
      "Cell \u001b[1;32mIn[2], line 9\u001b[0m\n\u001b[0;32m      6\u001b[0m \u001b[38;5;28;01mfrom\u001b[39;00m \u001b[38;5;21;01msklearn\u001b[39;00m\u001b[38;5;21;01m.\u001b[39;00m\u001b[38;5;21;01mneural_network\u001b[39;00m \u001b[38;5;28;01mimport\u001b[39;00m MLPClassifier\n\u001b[0;32m      7\u001b[0m \u001b[38;5;28;01mfrom\u001b[39;00m \u001b[38;5;21;01msklearn\u001b[39;00m\u001b[38;5;21;01m.\u001b[39;00m\u001b[38;5;21;01mmodel_selection\u001b[39;00m \u001b[38;5;28;01mimport\u001b[39;00m train_test_split\n\u001b[1;32m----> 9\u001b[0m year1to8 \u001b[38;5;241m=\u001b[39m \u001b[43mresult\u001b[49m[result[\u001b[38;5;124m'\u001b[39m\u001b[38;5;124myear\u001b[39m\u001b[38;5;124m'\u001b[39m] \u001b[38;5;241m<\u001b[39m \u001b[38;5;241m9\u001b[39m] \u001b[38;5;66;03m# training data\u001b[39;00m\n\u001b[0;32m     11\u001b[0m year9data \u001b[38;5;241m=\u001b[39m result[result[\u001b[38;5;124m'\u001b[39m\u001b[38;5;124myear\u001b[39m\u001b[38;5;124m'\u001b[39m] \u001b[38;5;241m==\u001b[39m \u001b[38;5;241m9\u001b[39m] \u001b[38;5;66;03m# testing data\u001b[39;00m\n\u001b[0;32m     12\u001b[0m year10data \u001b[38;5;241m=\u001b[39m result[result[\u001b[38;5;124m'\u001b[39m\u001b[38;5;124myear\u001b[39m\u001b[38;5;124m'\u001b[39m] \u001b[38;5;241m==\u001b[39m \u001b[38;5;241m10\u001b[39m] \u001b[38;5;66;03m# testing data\u001b[39;00m\n",
      "\u001b[1;31mNameError\u001b[0m: name 'result' is not defined"
     ]
    }
   ],
   "source": [
    "# split the data into training and testing data\n",
    "# should remove year 9 and 10\n",
    "\n",
    "# train the model neural network\n",
    "\n",
    "from sklearn.neural_network import MLPClassifier\n",
    "from sklearn.model_selection import train_test_split\n",
    "\n",
    "year1to8 = result[result['year'] < 9] # training data\n",
    "\n",
    "year9data = result[result['year'] == 9] # testing data\n",
    "year10data = result[result['year'] == 10] # testing data\n",
    "\n",
    "X = year1to8.drop('target', axis=1)\n",
    "y = year1to8['target']\n",
    "\n",
    "mlp = MLPClassifier(hidden_layer_sizes=(30,30,30))\n",
    "mlp.fit(X, y)\n",
    "\n",
    "# get probability instead of prediction\n",
    "probabilities = mlp.predict_proba(year9data.drop('target', axis=1)) # probability of winning of each team\n",
    "\n",
    "# get the 8 teams with the highest probability\n",
    "year9data['probability'] = probabilities\n",
    "year9data = year9data.sort_values('probability', ascending=False)\n",
    "# get eighth teams probability\n",
    "eighth_team_prob = year9data.iloc[7]['probability']\n",
    "# create new column with 1 if probability is higher than eighth team\n",
    "year9data['prediction'] = year9data['probability'] > eighth_team_prob\n",
    "\n",
    "# compare the prediction with the actual result\n",
    "correct = year9data['prediction'] == year9data['target']\n",
    "accuracy = correct.sum() / correct.count()\n",
    "print(accuracy)\n",
    "\n",
    "# repeat for year 10\n",
    "probabilities = mlp.predict_proba(year10data.drop('target', axis=1)) # probability of winning of each team\n",
    "\n",
    "# get the 8 teams with the highest probability\n",
    "year10data['probability'] = probabilities\n",
    "year10data = year10data.sort_values('probability', ascending=False)\n",
    "# get eighth teams probability\n",
    "eighth_team_prob = year10data.iloc[7]['probability']\n",
    "# create new column with 1 if probability is higher than eighth team\n",
    "year10data['prediction'] = year10data['probability'] > eighth_team_prob\n",
    "\n",
    "# compare the prediction with the actual result\n",
    "correct = year10data['prediction'] == year10data['target']\n",
    "accuracy = correct.sum() / correct.count()\n",
    "print(accuracy)"
   ]
  }
 ],
 "metadata": {
  "kernelspec": {
   "display_name": "Python 3",
   "language": "python",
   "name": "python3"
  },
  "language_info": {
   "codemirror_mode": {
    "name": "ipython",
    "version": 3
   },
   "file_extension": ".py",
   "mimetype": "text/x-python",
   "name": "python",
   "nbconvert_exporter": "python",
   "pygments_lexer": "ipython3",
   "version": "3.12.7"
  }
 },
 "nbformat": 4,
 "nbformat_minor": 2
}
